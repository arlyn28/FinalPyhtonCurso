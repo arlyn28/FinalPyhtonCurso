{
 "cells": [
  {
   "cell_type": "markdown",
   "metadata": {},
   "source": [
    "# PROBLEMAS DIVERSOS"
   ]
  },
  {
   "cell_type": "markdown",
   "metadata": {},
   "source": [
    "<h3>1.</h3>\n",
    "\n",
    "Imagina que acabas de abrir una nueva cuenta de ahorros que te ofrece el 4% de interés al año. Estos ahorros debido a intereses, que no se cobran hasta finales de año, se te añaden al balance final de tu cuenta de ahorros. Escribir un programa que comience leyendo la cantidad de dinero depositada en la cuenta de ahorros, introducida por el usuario. Después el programa debe calcular y mostrar por pantalla la cantidad de ahorros tras el primer, segundo y tercer años. Redondear cada cantidad a dos decimales."
   ]
  },
  {
   "cell_type": "code",
   "execution_count": 5,
   "metadata": {},
   "outputs": [
    {
     "name": "stdin",
     "output_type": "stream",
     "text": [
      "Ingrese cantidad de dinero depositada en la cuenta de ahorros: 100\n"
     ]
    }
   ],
   "source": [
    "m = float(input('Ingrese cantidad de dinero depositada en la cuenta de ahorros:'))"
   ]
  },
  {
   "cell_type": "code",
   "execution_count": 8,
   "metadata": {},
   "outputs": [
    {
     "name": "stdout",
     "output_type": "stream",
     "text": [
      "El monto al final del año 1 es :131.59317792358402\n",
      "El monto al final del año 2 es :136.85690504052738\n",
      "El monto al final del año 3 es :142.3311812421485\n"
     ]
    }
   ],
   "source": [
    "i= 0.04\n",
    "for a in range (1,4):\n",
    "    m = m* (1+i)\n",
    "    print(f\"El monto al final del año {a} es :{m}\")\n",
    "          \n",
    "    #c1= c + c * i c * (1 + i)"
   ]
  },
  {
   "cell_type": "markdown",
   "metadata": {},
   "source": [
    "# 2.\n",
    "Escriba un programa que pida los coeficientes de una ecuación de segundo grado <code>(a x² + b x + c = 0)</code> y escriba la solución.\n",
    "\n",
    "Se recuerda que una ecuación de segundo grado puede no tener solución, tener una solución única, tener dos soluciones o que todos los números sean solución."
   ]
  },
  {
   "cell_type": "markdown",
   "metadata": {},
   "source": [
    "<img src='https://i.pinimg.com/originals/d3/f7/01/d3f701528ad56ce0f5a98d7c91722fd7.png'>"
   ]
  },
  {
   "cell_type": "markdown",
   "metadata": {},
   "source": [
    "Su programa debe indicar:\n",
    "- En caso la ecuación cuadrática tenga solución real, su programa debe brindar la solución\n",
    "- En caso su ecuación no tenga solución real, su programa debe brindar un mensaje que diga \"Ecuación no presenta solución real\""
   ]
  },
  {
   "cell_type": "code",
   "execution_count": 21,
   "metadata": {},
   "outputs": [
    {
     "name": "stdout",
     "output_type": "stream",
     "text": [
      "Modelo de la ecuacion  a*x^2 + b*x + c = 0\n"
     ]
    },
    {
     "name": "stdin",
     "output_type": "stream",
     "text": [
      "Valor de a:  4\n",
      "Valor de b:  5\n",
      "Valor de c:  3\n"
     ]
    },
    {
     "name": "stdout",
     "output_type": "stream",
     "text": [
      "Ecuacion no presenta solución real\n"
     ]
    },
    {
     "data": {
      "image/png": "[encoded data removed]",
      "text/plain": [
       "<Figure size 432x288 with 1 Axes>"
      ]
     },
     "metadata": {
      "needs_background": "light"
     },
     "output_type": "display_data"
    }
   ],
   "source": [
    "print ('Modelo de la ecuacion  a*x^2 + b*x + c = 0')\n",
    "a = float(input('Valor de a: '))\n",
    "b = float(input('Valor de b: '))\n",
    "c = float(input('Valor de c: '))\n",
    "#calculando  las  delta\n",
    "delta = float(b**2-4*a*c)\n",
    "          \n",
    "if delta < 0:\n",
    "    print('Ecuacion no presenta solución real')\n",
    "\n",
    "elif delta ==0:\n",
    "    s == float(-b/2*a)\n",
    "    print ('Solucion unica: ',s)\n",
    "else:\n",
    "    x1 = float((-b+((b**2 - 4*a*c))**0.5)/(2*a))\n",
    "    x2 = float((-b-((b**2 - 4*a*c))**0.5)/(2*a))\n",
    "    print('Las soluciones son las siguientes')\n",
    "    print('X1: ',x1)\n",
    "    print('X2: ',x2)\n",
    "\n",
    "## intento de graficar\n",
    "import matplotlib.pyplot as plt\n",
    "import math\n",
    "import numpy as np\n",
    "x = np.arange(-10,10,0.5)\n",
    "y = a*x**2 + b*x + c\n",
    "plt.plot(x,y)\n",
    "plt.title('a*x^2 + b*x + c = 0')\n",
    "plt.xlabel('X')\n",
    "plt.ylabel('Y')\n",
    "plt.show()\n"
   ]
  },
  {
   "cell_type": "code",
   "execution_count": null,
   "metadata": {},
   "outputs": [],
   "source": []
  },
  {
   "cell_type": "code",
   "execution_count": null,
   "metadata": {},
   "outputs": [],
   "source": []
  }
 ],
 "metadata": {
  "kernelspec": {
   "display_name": "Python 3",
   "language": "python",
   "name": "python3"
  },
  "language_info": {
   "codemirror_mode": {
    "name": "ipython",
    "version": 3
   },
   "file_extension": ".py",
   "mimetype": "text/x-python",
   "name": "python",
   "nbconvert_exporter": "python",
   "pygments_lexer": "ipython3",
   "version": "3.8.5"
  }
 },
 "nbformat": 4,
 "nbformat_minor": 4
}
